{
 "cells": [
  {
   "cell_type": "markdown",
   "metadata": {},
   "source": [
    "**Install Required Library**"
   ]
  },
  {
   "cell_type": "code",
   "execution_count": null,
   "metadata": {},
   "outputs": [],
   "source": [
    "! pip install google-search-results\n"
   ]
  },
  {
   "cell_type": "markdown",
   "metadata": {},
   "source": [
    "**Get a Free SerpAPI Key**\n",
    "[Sign up at SerpAPI](https://serpapi.com/manage-api-key)"
   ]
  },
  {
   "cell_type": "code",
   "execution_count": 1,
   "metadata": {},
   "outputs": [
    {
     "name": "stdout",
     "output_type": "stream",
     "text": [
      "1. Five Trends in AI and Data Science for 2025 - https://sloanreview.mit.edu/article/five-trends-in-ai-and-data-science-for-2025/\n",
      "2. 8 AI and machine learning trends to watch in 2025 - https://www.techtarget.com/searchenterpriseai/tip/9-top-AI-and-machine-learning-trends\n",
      "3. 6 AI trends you'll see more of in 2025 - https://news.microsoft.com/source/features/ai/6-ai-trends-youll-see-more-of-in-2025/\n",
      "4. Latest Trends in Artificial Intelligence - https://www.newark.com/latest-trends-in-artificial-intelligence\n",
      "5. 14 AI Trends Transforming Tech in 2025 and Beyond - https://www.digitalocean.com/resources/articles/ai-trends\n"
     ]
    }
   ],
   "source": [
    "from serpapi import GoogleSearch\n",
    "\n",
    "# Replace with your SerpAPI key\n",
    "API_KEY = \"052155d2da7944f2c4651ae98d5fddf8fa8d6d3383361f56fc387997ee14eeaf\"\n",
    "\n",
    "def google_search(query):\n",
    "    params = {\n",
    "        \"q\": query,          # Search query\n",
    "        \"hl\": \"en\",          # Language (English)\n",
    "        \"gl\": \"us\",          # Country (United States)\n",
    "        \"api_key\": API_KEY   # Your SerpAPI key\n",
    "    }\n",
    "\n",
    "    # Fetch search results\n",
    "    search = GoogleSearch(params)\n",
    "    results = search.get_dict()\n",
    "\n",
    "    # Extract & print first 5 results\n",
    "    for index, result in enumerate(results.get(\"organic_results\", [])[:5], start=1):\n",
    "        print(f\"{index}. {result['title']} - {result['link']}\")\n",
    "\n",
    "# Example Search\n",
    "google_search(\"Latest AI trends\")\n"
   ]
  },
  {
   "cell_type": "markdown",
   "metadata": {},
   "source": [
    "**For Images**"
   ]
  },
  {
   "cell_type": "code",
   "execution_count": 2,
   "metadata": {},
   "outputs": [
    {
     "name": "stdout",
     "output_type": "stream",
     "text": [
      "1. https://i.ytimg.com/vi/RgV-MHk8eD4/maxresdefault.jpg\n",
      "2. https://media.istockphoto.com/id/1300278981/photo/three-agile-cats-in-the-summer-in-a-sunny-meadow-they-play-on-the-green-grass-and-stand-funny.jpg?s=612x612&w=0&k=20&c=CMPqJgMchn5EgjWH1P9mIN2iIHPxBvvAYsoPB3Jsi6M=\n",
      "3. https://t4.ftcdn.net/jpg/07/35/17/51/360_F_735175151_9Y3uOytmRWZzW0Hib8famSk0Ic3CfGpA.jpg\n",
      "4. https://media.tenor.com/5BYK-WS0__gAAAAM/cool-fun.gif\n",
      "5. https://static.boredpanda.com/blog/wp-content/uploads/2019/09/dancing-cat-chaco-wakaponsan-fb-png__700.jpg\n"
     ]
    }
   ],
   "source": [
    "\n",
    "\n",
    "def google_image_search(query):\n",
    "    params = {\n",
    "        \"q\": query,           # Search term\n",
    "        \"tbm\": \"isch\",        # Image search mode\n",
    "        \"hl\": \"en\",           # Language (English)\n",
    "        \"api_key\": API_KEY    # Your SerpAPI key\n",
    "    }\n",
    "\n",
    "    # Fetch search results\n",
    "    search = GoogleSearch(params)\n",
    "    results = search.get_dict()\n",
    "\n",
    "    #  Extract & print image URLs\n",
    "    images = results.get(\"images_results\", [])\n",
    "    for index, image in enumerate(images[:5], start=1):  # Get first 5 images\n",
    "        print(f\"{index}. {image['original']}\")  # Full-size image URL\n",
    "\n",
    "# Example Image Search\n",
    "google_image_search(\"dancing cat\")\n"
   ]
  },
  {
   "cell_type": "markdown",
   "metadata": {},
   "source": [
    "**For Videos**"
   ]
  },
  {
   "cell_type": "code",
   "execution_count": 3,
   "metadata": {},
   "outputs": [
    {
     "name": "stdout",
     "output_type": "stream",
     "text": [
      "1. Tom & Jerry | Greatest Frenemies of All Time 🐱🐭 | Classic ... - https://www.youtube.com/watch?v=4baMMMOJ4Rc\n",
      "2. Tom & Jerry | Tom & Jerry in Full Screen | Classic Cartoon ... - https://www.youtube.com/watch?v=t0Q2otsqC4I\n",
      "3. Tom and Jerry 😺🐭| Weekends with T & J! 🎉| Cat and the ... - https://www.youtube.com/watch?v=wFr3e2LbZbQ\n",
      "4. Tom and Jerry 😺🐭| The Legendary Battle of Cat & Mouse ... - https://www.youtube.com/watch?v=wzqH6JHAtFc\n",
      "5. Tom and Jerry MASTER Compilation | Classic Tom & Jerry ... - https://www.youtube.com/watch?v=KfX2HDO_wHU\n"
     ]
    }
   ],
   "source": [
    "def google_video_search(query):\n",
    "    params = {\n",
    "        \"q\": query,           # Search term\n",
    "        \"tbm\": \"vid\",         # Video search mode\n",
    "        \"hl\": \"en\",           # Language (English)\n",
    "        \"api_key\": API_KEY    # Your SerpAPI key\n",
    "    }\n",
    "\n",
    "    # ✅ Fetch search results\n",
    "    search = GoogleSearch(params)\n",
    "    results = search.get_dict()\n",
    "\n",
    "    # ✅ Extract & print video results\n",
    "    videos = results.get(\"video_results\", [])\n",
    "    for index, video in enumerate(videos[:5], start=1):  # Get first 5 videos\n",
    "        print(f\"{index}. {video['title']} - {video['link']}\")\n",
    "\n",
    "# ✅ Example Video Search\n",
    "google_video_search(\"tom and jerry\")"
   ]
  }
 ],
 "metadata": {
  "kernelspec": {
   "display_name": "Python 3",
   "language": "python",
   "name": "python3"
  },
  "language_info": {
   "codemirror_mode": {
    "name": "ipython",
    "version": 3
   },
   "file_extension": ".py",
   "mimetype": "text/x-python",
   "name": "python",
   "nbconvert_exporter": "python",
   "pygments_lexer": "ipython3",
   "version": "3.10.0"
  }
 },
 "nbformat": 4,
 "nbformat_minor": 2
}
