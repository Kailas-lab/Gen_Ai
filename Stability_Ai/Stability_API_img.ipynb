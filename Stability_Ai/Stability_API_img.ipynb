{
 "cells": [
  {
   "cell_type": "markdown",
   "metadata": {},
   "source": [
    "**To get Stability Api key**\n",
    "[Click here to get API Key](https://platform.stability.ai/account/keys)"
   ]
  },
  {
   "cell_type": "markdown",
   "metadata": {},
   "source": [
    "**Prompt to image genaration app**"
   ]
  },
  {
   "cell_type": "code",
   "execution_count": 2,
   "metadata": {},
   "outputs": [
    {
     "name": "stdout",
     "output_type": "stream",
     "text": [
      "Requirement already satisfied: stability-sdk in c:\\users\\admin\\appdata\\local\\programs\\python\\python310\\lib\\site-packages (0.8.6)\n",
      "Requirement already satisfied: Pillow in c:\\users\\admin\\appdata\\local\\programs\\python\\python310\\lib\\site-packages (from stability-sdk) (11.1.0)\n",
      "Requirement already satisfied: grpcio<1.64.0,>=1.53.0 in c:\\users\\admin\\appdata\\local\\programs\\python\\python310\\lib\\site-packages (from stability-sdk) (1.63.2)\n",
      "Requirement already satisfied: grpcio-tools<1.64.0,>=1.53.0 in c:\\users\\admin\\appdata\\local\\programs\\python\\python310\\lib\\site-packages (from stability-sdk) (1.63.2)\n",
      "Requirement already satisfied: python-dotenv in c:\\users\\admin\\appdata\\local\\programs\\python\\python310\\lib\\site-packages (from stability-sdk) (1.0.1)\n",
      "Requirement already satisfied: param in c:\\users\\admin\\appdata\\local\\programs\\python\\python310\\lib\\site-packages (from stability-sdk) (2.2.0)\n",
      "Requirement already satisfied: protobuf<6.0.0,>=4.21.12 in c:\\users\\admin\\appdata\\local\\programs\\python\\python310\\lib\\site-packages (from stability-sdk) (5.29.3)\n",
      "Requirement already satisfied: setuptools in c:\\users\\admin\\appdata\\local\\programs\\python\\python310\\lib\\site-packages (from grpcio-tools<1.64.0,>=1.53.0->stability-sdk) (57.4.0)\n"
     ]
    },
    {
     "name": "stderr",
     "output_type": "stream",
     "text": [
      "\n",
      "[notice] A new release of pip is available: 24.3.1 -> 25.0\n",
      "[notice] To update, run: python.exe -m pip install --upgrade pip\n"
     ]
    }
   ],
   "source": [
    "! pip install stability-sdk\n",
    "\n"
   ]
  },
  {
   "cell_type": "markdown",
   "metadata": {},
   "source": [
    "**Importing the dependencies**"
   ]
  },
  {
   "cell_type": "code",
   "execution_count": 3,
   "metadata": {},
   "outputs": [],
   "source": [
    "import stability_sdk.interfaces.gooseai.generation.generation_pb2 as generation\n",
    "from stability_sdk import client"
   ]
  },
  {
   "cell_type": "markdown",
   "metadata": {},
   "source": [
    "**Configure the stability api key and fit the model**"
   ]
  },
  {
   "cell_type": "code",
   "execution_count": 4,
   "metadata": {},
   "outputs": [],
   "source": [
    "\n",
    "\n",
    "stability_api = client.StabilityInference(\n",
    "    key=\"sk-FXKAqZE2r3wVkHFlp2lvmWFkLbrtdpV0NZOwJr0pkxLW4NsA\",\n",
    "    verbose=True\n",
    ")\n",
    "\n",
    "\n",
    "\n",
    "\n"
   ]
  },
  {
   "cell_type": "markdown",
   "metadata": {},
   "source": [
    "**Give prompt and generate img**"
   ]
  },
  {
   "cell_type": "code",
   "execution_count": 7,
   "metadata": {},
   "outputs": [],
   "source": [
    "prompt = \"real dogs in the sea\"\n",
    "answers = stability_api.generate(prompt=prompt)"
   ]
  },
  {
   "cell_type": "markdown",
   "metadata": {},
   "source": [
    "**Store the img and display**"
   ]
  },
  {
   "cell_type": "code",
   "execution_count": 9,
   "metadata": {},
   "outputs": [],
   "source": [
    "for resp in answers:\n",
    "    for artifact in resp.artifacts:\n",
    "        if artifact.type == generation.ARTIFACT_IMAGE:\n",
    "            with open(\"output.png\", \"wb\") as f:\n",
    "                f.write(artifact.binary)"
   ]
  },
  {
   "cell_type": "markdown",
   "metadata": {},
   "source": [
    "![Output Image](images/output.png)\n"
   ]
  }
 ],
 "metadata": {
  "kernelspec": {
   "display_name": "Python 3",
   "language": "python",
   "name": "python3"
  },
  "language_info": {
   "codemirror_mode": {
    "name": "ipython",
    "version": 3
   },
   "file_extension": ".py",
   "mimetype": "text/x-python",
   "name": "python",
   "nbconvert_exporter": "python",
   "pygments_lexer": "ipython3",
   "version": "3.10.0"
  }
 },
 "nbformat": 4,
 "nbformat_minor": 2
}
