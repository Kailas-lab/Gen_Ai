{
 "cells": [
  {
   "cell_type": "code",
   "execution_count": null,
   "id": "871bf916",
   "metadata": {},
   "outputs": [],
   "source": [
    "import streamlit as st\n",
    "from langchain_core.messages import HumanMessage\n",
    "from langchain_google_genai import ChatGoogleGenerativeAI\n",
    "import os\n",
    "\n",
    "# Set API Key (make sure to keep it safe in real apps)\n",
    "os.environ[\"GOOGLE_API_KEY\"] = \"sample\"\n",
    "\n",
    "# Initialize Gemini Model\n",
    "llm = ChatGoogleGenerativeAI(model=\"gemini-1.5-flash\", temperature=0.9)\n",
    "\n",
    "# Streamlit UI\n",
    "st.set_page_config(page_title=\"🤖 Gemini Chatbot\", page_icon=\"💬\")\n",
    "st.title(\"🤖 Gemini Chatbot\")\n",
    "\n",
    "# User input\n",
    "user_input = st.text_input(\"Type your message:\")\n",
    "\n",
    "if st.button(\"Ask Gemini\"):\n",
    "    if user_input.strip() != \"\":\n",
    "        response = llm.invoke([HumanMessage(content=user_input)])\n",
    "        st.write(\"**Gemini:**\", response.content)\n"
   ]
  },
  {
   "cell_type": "code",
   "execution_count": null,
   "id": "1a23ddc6",
   "metadata": {},
   "outputs": [],
   "source": []
  }
 ],
 "metadata": {
  "kernelspec": {
   "display_name": "Python 3",
   "language": "python",
   "name": "python3"
  },
  "language_info": {
   "codemirror_mode": {
    "name": "ipython",
    "version": 3
   },
   "file_extension": ".py",
   "mimetype": "text/x-python",
   "name": "python",
   "nbconvert_exporter": "python",
   "pygments_lexer": "ipython3",
   "version": "3.13.7"
  }
 },
 "nbformat": 4,
 "nbformat_minor": 5
}
