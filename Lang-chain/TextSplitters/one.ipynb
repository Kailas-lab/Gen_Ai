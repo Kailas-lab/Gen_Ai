{
 "cells": [
  {
   "cell_type": "markdown",
   "metadata": {},
   "source": [
    "**Text Splitters help you break down large documents into smaller chunks for processing.Combine Loaders + Splitters for efficient LLM processing in LangChain**\n"
   ]
  },
  {
   "cell_type": "markdown",
   "metadata": {},
   "source": [
    "RecursiveCharacterTextSplitter(chunk_size=10, chunk_overlap=5)\n",
    "\n",
    "It splits text into chunks of 10 characters each.\n",
    "\n",
    "It also overlaps the last 5 characters from the previous chunk into the next one. This helps in maintaining continuity."
   ]
  },
  {
   "cell_type": "code",
   "execution_count": 2,
   "metadata": {},
   "outputs": [
    {
     "name": "stdout",
     "output_type": "stream",
     "text": [
      "['This is a', 'is a long', 'document.', 'It has', 'multiple', 'sentences', 'ences.', 'LangChain', 'helps in', 'AI-powere', 'owered', 'applicati', 'ications.']\n"
     ]
    }
   ],
   "source": [
    "from langchain.text_splitter import RecursiveCharacterTextSplitter\n",
    "\n",
    "text = \"This is a long document. It has multiple sentences. LangChain helps in AI-powered applications.\"\n",
    "\n",
    "splitter = RecursiveCharacterTextSplitter(chunk_size=10, chunk_overlap=5)\n",
    "chunks = splitter.split_text(text)\n",
    "\n",
    "print(chunks)\n"
   ]
  },
  {
   "cell_type": "markdown",
   "metadata": {},
   "source": [
    "**Loading and Splitting**"
   ]
  },
  {
   "cell_type": "code",
   "execution_count": 4,
   "metadata": {},
   "outputs": [
    {
     "name": "stderr",
     "output_type": "stream",
     "text": [
      "Ignoring wrong pointing object 10 0 (offset 0)\n",
      "Ignoring wrong pointing object 12 0 (offset 0)\n",
      "Ignoring wrong pointing object 19 0 (offset 0)\n",
      "Ignoring wrong pointing object 21 0 (offset 0)\n",
      "Ignoring wrong pointing object 43 0 (offset 0)\n",
      "Ignoring wrong pointing object 45 0 (offset 0)\n",
      "Ignoring wrong pointing object 47 0 (offset 0)\n",
      "Ignoring wrong pointing object 49 0 (offset 0)\n",
      "Ignoring wrong pointing object 53 0 (offset 0)\n",
      "Ignoring wrong pointing object 55 0 (offset 0)\n",
      "Ignoring wrong pointing object 64 0 (offset 0)\n",
      "Ignoring wrong pointing object 79 0 (offset 0)\n",
      "Ignoring wrong pointing object 99 0 (offset 0)\n",
      "Ignoring wrong pointing object 101 0 (offset 0)\n",
      "Ignoring wrong pointing object 103 0 (offset 0)\n",
      "Ignoring wrong pointing object 106 0 (offset 0)\n",
      "Ignoring wrong pointing object 108 0 (offset 0)\n",
      "Ignoring wrong pointing object 110 0 (offset 0)\n",
      "Ignoring wrong pointing object 112 0 (offset 0)\n",
      "Ignoring wrong pointing object 114 0 (offset 0)\n",
      "Ignoring wrong pointing object 123 0 (offset 0)\n",
      "Ignoring wrong pointing object 125 0 (offset 0)\n",
      "Ignoring wrong pointing object 127 0 (offset 0)\n",
      "Ignoring wrong pointing object 144 0 (offset 0)\n",
      "Ignoring wrong pointing object 155 0 (offset 0)\n",
      "Ignoring wrong pointing object 160 0 (offset 0)\n",
      "Ignoring wrong pointing object 218 0 (offset 0)\n",
      "Ignoring wrong pointing object 222 0 (offset 0)\n",
      "Ignoring wrong pointing object 233 0 (offset 0)\n",
      "Ignoring wrong pointing object 236 0 (offset 0)\n",
      "Ignoring wrong pointing object 238 0 (offset 0)\n",
      "Ignoring wrong pointing object 240 0 (offset 0)\n",
      "Ignoring wrong pointing object 250 0 (offset 0)\n",
      "Ignoring wrong pointing object 274 0 (offset 0)\n",
      "Ignoring wrong pointing object 276 0 (offset 0)\n",
      "Ignoring wrong pointing object 280 0 (offset 0)\n",
      "Ignoring wrong pointing object 308 0 (offset 0)\n",
      "Ignoring wrong pointing object 317 0 (offset 0)\n",
      "Ignoring wrong pointing object 415 0 (offset 0)\n",
      "Ignoring wrong pointing object 471 0 (offset 0)\n",
      "Ignoring wrong pointing object 505 0 (offset 0)\n",
      "Ignoring wrong pointing object 575 0 (offset 0)\n",
      "Ignoring wrong pointing object 578 0 (offset 0)\n",
      "Ignoring wrong pointing object 582 0 (offset 0)\n",
      "Ignoring wrong pointing object 610 0 (offset 0)\n",
      "Ignoring wrong pointing object 612 0 (offset 0)\n",
      "Ignoring wrong pointing object 731 0 (offset 0)\n",
      "Ignoring wrong pointing object 793 0 (offset 0)\n",
      "Ignoring wrong pointing object 828 0 (offset 0)\n",
      "Ignoring wrong pointing object 877 0 (offset 0)\n",
      "Ignoring wrong pointing object 880 0 (offset 0)\n",
      "Ignoring wrong pointing object 916 0 (offset 0)\n",
      "Ignoring wrong pointing object 933 0 (offset 0)\n",
      "Ignoring wrong pointing object 1046 0 (offset 0)\n",
      "Ignoring wrong pointing object 1240 0 (offset 0)\n",
      "Ignoring wrong pointing object 1368 0 (offset 0)\n",
      "Ignoring wrong pointing object 1380 0 (offset 0)\n",
      "Ignoring wrong pointing object 1537 0 (offset 0)\n",
      "Ignoring wrong pointing object 1563 0 (offset 0)\n",
      "Ignoring wrong pointing object 2001 0 (offset 0)\n",
      "Ignoring wrong pointing object 2003 0 (offset 0)\n",
      "Ignoring wrong pointing object 2005 0 (offset 0)\n",
      "Ignoring wrong pointing object 2137 0 (offset 0)\n",
      "Ignoring wrong pointing object 2166 0 (offset 0)\n",
      "Ignoring wrong pointing object 2168 0 (offset 0)\n",
      "Ignoring wrong pointing object 2175 0 (offset 0)\n",
      "Ignoring wrong pointing object 2197 0 (offset 0)\n",
      "Ignoring wrong pointing object 2203 0 (offset 0)\n",
      "Ignoring wrong pointing object 2205 0 (offset 0)\n",
      "Ignoring wrong pointing object 2221 0 (offset 0)\n",
      "Ignoring wrong pointing object 2233 0 (offset 0)\n",
      "Ignoring wrong pointing object 2258 0 (offset 0)\n",
      "Ignoring wrong pointing object 2296 0 (offset 0)\n",
      "Ignoring wrong pointing object 2298 0 (offset 0)\n",
      "Ignoring wrong pointing object 2307 0 (offset 0)\n",
      "Ignoring wrong pointing object 2376 0 (offset 0)\n",
      "Ignoring wrong pointing object 2400 0 (offset 0)\n",
      "Ignoring wrong pointing object 2536 0 (offset 0)\n",
      "Ignoring wrong pointing object 2597 0 (offset 0)\n",
      "Ignoring wrong pointing object 2605 0 (offset 0)\n",
      "Ignoring wrong pointing object 2610 0 (offset 0)\n",
      "Ignoring wrong pointing object 2723 0 (offset 0)\n",
      "Ignoring wrong pointing object 2725 0 (offset 0)\n",
      "Ignoring wrong pointing object 2727 0 (offset 0)\n",
      "Ignoring wrong pointing object 2805 0 (offset 0)\n",
      "Ignoring wrong pointing object 2983 0 (offset 0)\n",
      "Ignoring wrong pointing object 2986 0 (offset 0)\n",
      "Ignoring wrong pointing object 2989 0 (offset 0)\n",
      "Ignoring wrong pointing object 2992 0 (offset 0)\n",
      "Ignoring wrong pointing object 2995 0 (offset 0)\n",
      "Ignoring wrong pointing object 2998 0 (offset 0)\n",
      "Ignoring wrong pointing object 3363 0 (offset 0)\n",
      "Ignoring wrong pointing object 3824 0 (offset 0)\n"
     ]
    },
    {
     "name": "stdout",
     "output_type": "stream",
     "text": [
      "With Best-Selling Instructors Chris Dutton &Aaron Parry\n",
      "*Copyright Maven Analytics, LLC\n",
      "UP & RUNNING WITH\n"
     ]
    }
   ],
   "source": [
    "from langchain.document_loaders import PyPDFLoader\n",
    "from langchain.text_splitter import RecursiveCharacterTextSplitter\n",
    "\n",
    "# Load the document\n",
    "loader = PyPDFLoader(r\"D:\\kailas\\gen ai\\Gen_Ai\\Lang-chain\\Doc_Loaders\\power.pdf\")\n",
    "docs = loader.load()\n",
    "\n",
    "# Split into chunks\n",
    "splitter = RecursiveCharacterTextSplitter(chunk_size=500, chunk_overlap=50)\n",
    "chunks = splitter.split_documents(docs)\n",
    "\n",
    "print(chunks[0].page_content)  # Print first chunk\n"
   ]
  }
 ],
 "metadata": {
  "kernelspec": {
   "display_name": "Python 3",
   "language": "python",
   "name": "python3"
  },
  "language_info": {
   "codemirror_mode": {
    "name": "ipython",
    "version": 3
   },
   "file_extension": ".py",
   "mimetype": "text/x-python",
   "name": "python",
   "nbconvert_exporter": "python",
   "pygments_lexer": "ipython3",
   "version": "3.10.0"
  }
 },
 "nbformat": 4,
 "nbformat_minor": 2
}
