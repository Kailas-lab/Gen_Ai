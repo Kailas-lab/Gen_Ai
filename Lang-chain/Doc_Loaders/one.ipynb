{
 "cells": [
  {
   "cell_type": "markdown",
   "metadata": {},
   "source": [
    "**For loading and printing the contents of a plain text file using TextLoader from langchain.document_loaders**"
   ]
  },
  {
   "cell_type": "code",
   "execution_count": 3,
   "metadata": {},
   "outputs": [
    {
     "name": "stdout",
     "output_type": "stream",
     "text": [
      "[Document(metadata={'source': 'exam.txt'}, page_content='hi hello am gen ai')]\n"
     ]
    }
   ],
   "source": [
    "from langchain.document_loaders import TextLoader\n",
    "\n",
    "loader = TextLoader(\"exam.txt\")\n",
    "docs = loader.load()\n",
    "print(docs)\n"
   ]
  },
  {
   "cell_type": "markdown",
   "metadata": {},
   "source": [
    "**For PDF reading using loaders**"
   ]
  },
  {
   "cell_type": "code",
   "execution_count": 6,
   "metadata": {},
   "outputs": [
    {
     "name": "stdout",
     "output_type": "stream",
     "text": [
      "Requirement already satisfied: pymupdf in c:\\users\\admin\\appdata\\local\\programs\\python\\python310\\lib\\site-packages (1.25.3)\n",
      "Collecting pypdf\n",
      "  Downloading pypdf-5.3.1-py3-none-any.whl.metadata (7.3 kB)\n",
      "Requirement already satisfied: typing_extensions>=4.0 in c:\\users\\admin\\appdata\\roaming\\python\\python310\\site-packages (from pypdf) (4.12.2)\n",
      "Downloading pypdf-5.3.1-py3-none-any.whl (302 kB)\n",
      "Installing collected packages: pypdf\n",
      "Successfully installed pypdf-5.3.1\n"
     ]
    }
   ],
   "source": [
    "! pip install pymupdf\n",
    "! pip install pypdf"
   ]
  },
  {
   "cell_type": "code",
   "execution_count": 9,
   "metadata": {},
   "outputs": [
    {
     "name": "stderr",
     "output_type": "stream",
     "text": [
      "Ignoring wrong pointing object 10 0 (offset 0)\n",
      "Ignoring wrong pointing object 12 0 (offset 0)\n",
      "Ignoring wrong pointing object 19 0 (offset 0)\n",
      "Ignoring wrong pointing object 21 0 (offset 0)\n",
      "Ignoring wrong pointing object 43 0 (offset 0)\n",
      "Ignoring wrong pointing object 45 0 (offset 0)\n",
      "Ignoring wrong pointing object 47 0 (offset 0)\n",
      "Ignoring wrong pointing object 49 0 (offset 0)\n",
      "Ignoring wrong pointing object 53 0 (offset 0)\n",
      "Ignoring wrong pointing object 55 0 (offset 0)\n",
      "Ignoring wrong pointing object 64 0 (offset 0)\n",
      "Ignoring wrong pointing object 79 0 (offset 0)\n",
      "Ignoring wrong pointing object 99 0 (offset 0)\n",
      "Ignoring wrong pointing object 101 0 (offset 0)\n",
      "Ignoring wrong pointing object 103 0 (offset 0)\n",
      "Ignoring wrong pointing object 106 0 (offset 0)\n",
      "Ignoring wrong pointing object 108 0 (offset 0)\n",
      "Ignoring wrong pointing object 110 0 (offset 0)\n",
      "Ignoring wrong pointing object 112 0 (offset 0)\n",
      "Ignoring wrong pointing object 114 0 (offset 0)\n",
      "Ignoring wrong pointing object 123 0 (offset 0)\n",
      "Ignoring wrong pointing object 125 0 (offset 0)\n",
      "Ignoring wrong pointing object 127 0 (offset 0)\n",
      "Ignoring wrong pointing object 144 0 (offset 0)\n",
      "Ignoring wrong pointing object 155 0 (offset 0)\n",
      "Ignoring wrong pointing object 160 0 (offset 0)\n",
      "Ignoring wrong pointing object 218 0 (offset 0)\n",
      "Ignoring wrong pointing object 222 0 (offset 0)\n",
      "Ignoring wrong pointing object 233 0 (offset 0)\n",
      "Ignoring wrong pointing object 236 0 (offset 0)\n",
      "Ignoring wrong pointing object 238 0 (offset 0)\n",
      "Ignoring wrong pointing object 240 0 (offset 0)\n",
      "Ignoring wrong pointing object 250 0 (offset 0)\n",
      "Ignoring wrong pointing object 274 0 (offset 0)\n",
      "Ignoring wrong pointing object 276 0 (offset 0)\n",
      "Ignoring wrong pointing object 280 0 (offset 0)\n",
      "Ignoring wrong pointing object 308 0 (offset 0)\n",
      "Ignoring wrong pointing object 317 0 (offset 0)\n",
      "Ignoring wrong pointing object 415 0 (offset 0)\n",
      "Ignoring wrong pointing object 471 0 (offset 0)\n",
      "Ignoring wrong pointing object 505 0 (offset 0)\n",
      "Ignoring wrong pointing object 575 0 (offset 0)\n",
      "Ignoring wrong pointing object 578 0 (offset 0)\n",
      "Ignoring wrong pointing object 582 0 (offset 0)\n",
      "Ignoring wrong pointing object 610 0 (offset 0)\n",
      "Ignoring wrong pointing object 612 0 (offset 0)\n",
      "Ignoring wrong pointing object 731 0 (offset 0)\n",
      "Ignoring wrong pointing object 793 0 (offset 0)\n",
      "Ignoring wrong pointing object 828 0 (offset 0)\n",
      "Ignoring wrong pointing object 877 0 (offset 0)\n",
      "Ignoring wrong pointing object 880 0 (offset 0)\n",
      "Ignoring wrong pointing object 916 0 (offset 0)\n",
      "Ignoring wrong pointing object 933 0 (offset 0)\n",
      "Ignoring wrong pointing object 1046 0 (offset 0)\n",
      "Ignoring wrong pointing object 1240 0 (offset 0)\n",
      "Ignoring wrong pointing object 1368 0 (offset 0)\n",
      "Ignoring wrong pointing object 1380 0 (offset 0)\n",
      "Ignoring wrong pointing object 1537 0 (offset 0)\n",
      "Ignoring wrong pointing object 1563 0 (offset 0)\n",
      "Ignoring wrong pointing object 2001 0 (offset 0)\n",
      "Ignoring wrong pointing object 2003 0 (offset 0)\n",
      "Ignoring wrong pointing object 2005 0 (offset 0)\n",
      "Ignoring wrong pointing object 2137 0 (offset 0)\n",
      "Ignoring wrong pointing object 2166 0 (offset 0)\n",
      "Ignoring wrong pointing object 2168 0 (offset 0)\n",
      "Ignoring wrong pointing object 2175 0 (offset 0)\n",
      "Ignoring wrong pointing object 2197 0 (offset 0)\n",
      "Ignoring wrong pointing object 2203 0 (offset 0)\n",
      "Ignoring wrong pointing object 2205 0 (offset 0)\n",
      "Ignoring wrong pointing object 2221 0 (offset 0)\n",
      "Ignoring wrong pointing object 2233 0 (offset 0)\n",
      "Ignoring wrong pointing object 2258 0 (offset 0)\n",
      "Ignoring wrong pointing object 2296 0 (offset 0)\n",
      "Ignoring wrong pointing object 2298 0 (offset 0)\n",
      "Ignoring wrong pointing object 2307 0 (offset 0)\n",
      "Ignoring wrong pointing object 2376 0 (offset 0)\n",
      "Ignoring wrong pointing object 2400 0 (offset 0)\n",
      "Ignoring wrong pointing object 2536 0 (offset 0)\n",
      "Ignoring wrong pointing object 2597 0 (offset 0)\n",
      "Ignoring wrong pointing object 2605 0 (offset 0)\n",
      "Ignoring wrong pointing object 2610 0 (offset 0)\n",
      "Ignoring wrong pointing object 2723 0 (offset 0)\n",
      "Ignoring wrong pointing object 2725 0 (offset 0)\n",
      "Ignoring wrong pointing object 2727 0 (offset 0)\n",
      "Ignoring wrong pointing object 2805 0 (offset 0)\n",
      "Ignoring wrong pointing object 2983 0 (offset 0)\n",
      "Ignoring wrong pointing object 2986 0 (offset 0)\n",
      "Ignoring wrong pointing object 2989 0 (offset 0)\n",
      "Ignoring wrong pointing object 2992 0 (offset 0)\n",
      "Ignoring wrong pointing object 2995 0 (offset 0)\n",
      "Ignoring wrong pointing object 2998 0 (offset 0)\n",
      "Ignoring wrong pointing object 3363 0 (offset 0)\n",
      "Ignoring wrong pointing object 3824 0 (offset 0)\n"
     ]
    },
    {
     "name": "stdout",
     "output_type": "stream",
     "text": [
      "Connect, transform and load millions of rows of data•Access data from virtually anywhere (database tables, flat files, web, cloud services, folders, etc.), and create fully automated workflows to extract, transform and load data for analysis\n",
      "WHY POWER BI?\n",
      "*Copyright Maven Analytics, LLC\n",
      "Build relational models to blend data from multiple sources•Create table relationships to analyze holistic performance across an entire relational data modelDefine complex calculations using Data Analysis Expressions (DAX)•Enhance datasets and enable advanced analytics with powerful and portable DAX expressionsBring data to life with interactive reports and dashboards•Build professional-quality reports and dashboards with best-in-class visualization toolsDevelop a versatile, in-demand skill set•Power BI is the industry leader in self-service BI, and the skills you build in this course will be highly transferrable\n"
     ]
    }
   ],
   "source": [
    "\n",
    "from langchain.document_loaders import PyPDFLoader\n",
    "\n",
    "loader = PyPDFLoader(\"power.pdf\")\n",
    "docs = loader.load()\n",
    "print(docs[8].page_content)  # View first page content\n"
   ]
  }
 ],
 "metadata": {
  "kernelspec": {
   "display_name": "Python 3",
   "language": "python",
   "name": "python3"
  },
  "language_info": {
   "codemirror_mode": {
    "name": "ipython",
    "version": 3
   },
   "file_extension": ".py",
   "mimetype": "text/x-python",
   "name": "python",
   "nbconvert_exporter": "python",
   "pygments_lexer": "ipython3",
   "version": "3.10.0"
  }
 },
 "nbformat": 4,
 "nbformat_minor": 2
}
