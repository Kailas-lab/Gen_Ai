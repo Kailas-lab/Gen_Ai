{
 "cells": [
  {
   "cell_type": "markdown",
   "metadata": {},
   "source": [
    "**deep dream generator**\n",
    "for image to image change using prompt as well as img to videos\n",
    "\n",
    "[DDG](https://deepdreamgenerator.com/generate/from-dream/fc4y3kxmyl7)"
   ]
  },
  {
   "cell_type": "markdown",
   "metadata": {},
   "source": [
    "**runway**\n",
    "for image to videos using prompt\n",
    "\n",
    "[Runway](https://app.runwayml.com/video-tools/teams/kailashraina8/dashboard)\n"
   ]
  },
  {
   "cell_type": "markdown",
   "metadata": {},
   "source": [
    "**Dall e open ai**\n",
    "for prompt to images\n",
    "\n",
    "[dalle](https://www.dall-efree.com/user/image-generator)"
   ]
  },
  {
   "cell_type": "markdown",
   "metadata": {},
   "source": [
    "**Canva Ai**\n",
    "for prompt to generate videos\n",
    "\n",
    "[canva-ai](https://www.canva.com/design/DAGfcpKMsek/kLVodp3Y96Lzko5GYg6jTA/edit?ui=eyJFIjp7IkE_IjoiViIsIkIiOiJDIn0sIkciOnsiQiI6dHJ1ZX19)"
   ]
  }
 ],
 "metadata": {
  "kernelspec": {
   "display_name": "Python 3",
   "language": "python",
   "name": "python3"
  },
  "language_info": {
   "name": "python",
   "version": "3.10.0"
  }
 },
 "nbformat": 4,
 "nbformat_minor": 2
}
